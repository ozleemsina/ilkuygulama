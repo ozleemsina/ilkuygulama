{
  "nbformat": 4,
  "nbformat_minor": 0,
  "metadata": {
    "colab": {
      "provenance": [],
      "authorship_tag": "ABX9TyOo3KDSi3Pp9/aRE9g6fkCD",
      "include_colab_link": true
    },
    "kernelspec": {
      "name": "python3",
      "display_name": "Python 3"
    },
    "language_info": {
      "name": "python"
    }
  },
  "cells": [
    {
      "cell_type": "markdown",
      "metadata": {
        "id": "view-in-github",
        "colab_type": "text"
      },
      "source": [
        "<a href=\"https://colab.research.google.com/github/ozlemsina/ilkuygulama/blob/main/Untitled32.ipynb\" target=\"_parent\"><img src=\"https://colab.research.google.com/assets/colab-badge.svg\" alt=\"Open In Colab\"/></a>"
      ]
    },
    {
      "cell_type": "code",
      "source": [
        "import random"
      ],
      "metadata": {
        "id": "CdH6Iqqx7qQu"
      },
      "execution_count": 11,
      "outputs": []
    },
    {
      "cell_type": "code",
      "execution_count": 12,
      "metadata": {
        "colab": {
          "base_uri": "https://localhost:8080/"
        },
        "id": "aCgz72yU5iot",
        "outputId": "269abec0-9a67-4022-dba7-4a644b6cce86"
      },
      "outputs": [
        {
          "output_type": "stream",
          "name": "stdout",
          "text": [
            "bir sayı gir8\n",
            "bilgisayarın ürettiği sayı daha büyük9\n"
          ]
        }
      ],
      "source": [
        "k_sayi=int(input(\"bir sayı gir\"))\n",
        "if(k_sayi>=1 and k_sayi<=10):\n",
        "   b_sayi=random.randint(1,10)\n",
        "   if(k_sayi==b_sayi):\n",
        "    print(f\"tebrikler doğru tahmin{b_sayi}\")\n",
        "   elif(k_sayi<b_sayi):\n",
        "    print(f\"bilgisayarın ürettiği sayı daha büyük{b_sayi}\")\n",
        "   elif(k_sayi>b_sayi):\n",
        "    print(f\"kullanıcının girdiği sayı daha büyük{b_sayi}\")\n",
        "else:\n",
        "  print(\"1-10 arası bir sayı gir\")"
      ]
    },
    {
      "cell_type": "code",
      "source": [
        "secim=input(\"taş için t kağıt için k makas için m giriniz\")\n",
        "if(secim!= 'k' and secim !='t' and secim !='m'):\n",
        "  print(\"taş kağıt makas seçmeniz gerekiyor\")\n",
        "else:\n",
        "      b_secim=random.randint(1,3)\n",
        "     #print(b_secim)\n",
        "      if(secim=='k' and b_secim==1):\n",
        "       print(\"kullanıcı=kağıt\")\n",
        "       print(\"bilgisayar=taş\")\n",
        "       print(\"kullanıcı kazandı\")\n",
        "    elif(secim=='k' and b_secim==2):\n",
        "          print(\"kullanıcı=kağıt\")\n",
        "         print(\"bilgisayar=makas\")\n",
        "        print(\"bilgisayar kazandı\")\n",
        "    elif(secim=='k' and b_secim==3):\n",
        "       print(\"kullanıcı=kağıt\")\n",
        "      print(\"bilgisayar= kağıt\")\n",
        "      print(\"berabere\")\n",
        "    elif(secim=='t' and b_secim==1):\n",
        "      print(\"kullanıcı=taş\")\n",
        "      print(\"bilgisayar=taş\")\n",
        "      print(\"berabere\")\n",
        "    elif(secim=='t' and b_secim==2):\n",
        "      print(\"kullanıcı=taş\")\n",
        "      print(\"bilgisayar=makas\")\n",
        "      print(\"kullanıcı kazandı\")\n",
        "     elif(secim=='t' and b_secim==3):\n",
        "         print(\"kullanıcı=taş\")\n",
        "         print(\"bilgisayar=kağıt\")\n",
        "         print(\"bilgisayar kazandı\")\n",
        "      elif(secim=='m' and b_secim==1):\n",
        "           print(\"kullanıcı= makas\")\n",
        "           print(\"bilgisayar=taş\")\n",
        "           print(\"bilgisayar kazandı\")\n",
        "       elif(secim=='m' and b_secim==2):\n",
        "          print(\"kullanıcı=makas\")\n",
        "          print(\"bilgisayar=makas\")\n",
        "          print(\"berabere\")\n",
        "        elif(secim=='m'and b_secim==3):\n",
        "           print(\"kullanıcı=makas\")\n",
        "           print(\"bilgisayar=kağıt\")\n",
        "           print(\"kullanıcı kazandı\")\n",
        "          taş için t kağıt için k makas icin m gir"
      ],
      "metadata": {
        "id": "Ue3yfCQS8F5K"
      },
      "execution_count": null,
      "outputs": []
    },
    {
      "cell_type": "code",
      "source": [
        "#len = lenght\n",
        "#harf sayısını verir\n"
      ],
      "metadata": {
        "id": "WNvvOa4TCJtf"
      },
      "execution_count": 19,
      "outputs": []
    },
    {
      "cell_type": "code",
      "source": [
        "isim=\"sina\""
      ],
      "metadata": {
        "id": "63vQyUq-CNBm"
      },
      "execution_count": 20,
      "outputs": []
    },
    {
      "cell_type": "code",
      "source": [
        "len(isim)"
      ],
      "metadata": {
        "colab": {
          "base_uri": "https://localhost:8080/"
        },
        "id": "rpIqwRlQCP2-",
        "outputId": "a4c163f4-3885-4e75-d464-a602d62df1f7"
      },
      "execution_count": 21,
      "outputs": [
        {
          "output_type": "execute_result",
          "data": {
            "text/plain": [
              "4"
            ]
          },
          "metadata": {},
          "execution_count": 21
        }
      ]
    },
    {
      "cell_type": "code",
      "source": [
        "kullanici_adi=\"özlem sina\"\n",
        "parola=\"1234abcd\""
      ],
      "metadata": {
        "id": "O7rKlww8E5w-"
      },
      "execution_count": 26,
      "outputs": []
    },
    {
      "cell_type": "code",
      "source": [
        "giris_icin_kullanilan_adi = input(\"kullanıcı adını giriniz:\")\n",
        "giris_icin_parola = input(\"kullanıcı parolanızı giriniz:\")\n",
        "   if.(kullanici_adi. != .giris_icin_kullanici_adi):\n",
        "    print(\"girdiginiz.kullanici.adi.yanlis!\")\n",
        "  else:\n",
        "   if (kullanici_adi== giris_icin_kullanici_adi) and (parola==giris_icin_parola)\n",
        "    else:\n",
        "     print(\"giriş başarısız!\")\n",
        "    if(kullanici_adi != giris_icin_kullanici_adi):\n",
        "      print(\"giriş için gerekli kullanıcı adınız yanlış!\")\n",
        "      if(parola != giris_icin_parola):\n",
        "        print(\"giriş için gerekli parola yanlış!\")"
      ],
      "metadata": {
        "id": "IRtV_DCcCRqP"
      },
      "execution_count": null,
      "outputs": []
    },
    {
      "cell_type": "code",
      "source": [
        " print(\"2.dereceden bir denklemi kat sayılarını giriniz \\n\")\n",
        "#y=ax^2+bx+c"
      ],
      "metadata": {
        "colab": {
          "base_uri": "https://localhost:8080/"
        },
        "id": "LOme24nDFx9-",
        "outputId": "68f7aff3-377e-4a04-a369-70badbe82d1a"
      },
      "execution_count": 34,
      "outputs": [
        {
          "output_type": "stream",
          "name": "stdout",
          "text": [
            "2.dereceden bir denklemi kat sayılarını giriniz \n",
            "\n"
          ]
        }
      ]
    },
    {
      "cell_type": "code",
      "source": [
        "a=im"
      ],
      "metadata": {
        "id": "Iz4CMzoSFurS"
      },
      "execution_count": null,
      "outputs": []
    },
    {
      "cell_type": "code",
      "source": [],
      "metadata": {
        "id": "uavXG7HWGt9x"
      },
      "execution_count": null,
      "outputs": []
    }
  ]
}