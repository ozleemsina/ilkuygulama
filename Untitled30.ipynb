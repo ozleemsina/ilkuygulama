{
  "nbformat": 4,
  "nbformat_minor": 0,
  "metadata": {
    "colab": {
      "provenance": [],
      "authorship_tag": "ABX9TyN89P9b3cF+qAkIQKB+05oD",
      "include_colab_link": true
    },
    "kernelspec": {
      "name": "python3",
      "display_name": "Python 3"
    },
    "language_info": {
      "name": "python"
    }
  },
  "cells": [
    {
      "cell_type": "markdown",
      "metadata": {
        "id": "view-in-github",
        "colab_type": "text"
      },
      "source": [
        "<a href=\"https://colab.research.google.com/github/ozlemsina/ilkuygulama/blob/main/Untitled30.ipynb\" target=\"_parent\"><img src=\"https://colab.research.google.com/assets/colab-badge.svg\" alt=\"Open In Colab\"/></a>"
      ]
    },
    {
      "cell_type": "code",
      "execution_count": 1,
      "metadata": {
        "id": "ShtEoOmIDyNh"
      },
      "outputs": [],
      "source": [
        "x=5"
      ]
    },
    {
      "cell_type": "code",
      "source": [
        "type(x)"
      ],
      "metadata": {
        "colab": {
          "base_uri": "https://localhost:8080/"
        },
        "id": "lSA7ie8eINA0",
        "outputId": "f831f6ec-35ab-4601-dc4c-f35fd15f27f9"
      },
      "execution_count": 2,
      "outputs": [
        {
          "output_type": "execute_result",
          "data": {
            "text/plain": [
              "int"
            ]
          },
          "metadata": {},
          "execution_count": 2
        }
      ]
    },
    {
      "cell_type": "code",
      "source": [
        "y=3"
      ],
      "metadata": {
        "id": "anFo9HxPIOd3"
      },
      "execution_count": 3,
      "outputs": []
    },
    {
      "cell_type": "code",
      "source": [
        "type(y)"
      ],
      "metadata": {
        "colab": {
          "base_uri": "https://localhost:8080/"
        },
        "id": "YsqA5AdOIP_5",
        "outputId": "a968d5fe-caa0-4312-efc1-f487dd50a33f"
      },
      "execution_count": 4,
      "outputs": [
        {
          "output_type": "execute_result",
          "data": {
            "text/plain": [
              "int"
            ]
          },
          "metadata": {},
          "execution_count": 4
        }
      ]
    },
    {
      "cell_type": "code",
      "source": [
        "#true =1\n",
        "#false =0"
      ],
      "metadata": {
        "id": "YjM9JFSAIRXS"
      },
      "execution_count": 5,
      "outputs": []
    },
    {
      "cell_type": "code",
      "source": [
        "x>y"
      ],
      "metadata": {
        "colab": {
          "base_uri": "https://localhost:8080/"
        },
        "id": "xzguSCJUIXM9",
        "outputId": "91c51a4f-5c80-480c-c1da-0cf4645dfadf"
      },
      "execution_count": 6,
      "outputs": [
        {
          "output_type": "execute_result",
          "data": {
            "text/plain": [
              "True"
            ]
          },
          "metadata": {},
          "execution_count": 6
        }
      ]
    },
    {
      "cell_type": "code",
      "source": [
        "x<y"
      ],
      "metadata": {
        "colab": {
          "base_uri": "https://localhost:8080/"
        },
        "id": "af5aD1vvIYei",
        "outputId": "4c3a4c29-d06b-4ebb-85db-6033f92d3613"
      },
      "execution_count": 7,
      "outputs": [
        {
          "output_type": "execute_result",
          "data": {
            "text/plain": [
              "False"
            ]
          },
          "metadata": {},
          "execution_count": 7
        }
      ]
    },
    {
      "cell_type": "code",
      "source": [
        "x==y"
      ],
      "metadata": {
        "colab": {
          "base_uri": "https://localhost:8080/"
        },
        "id": "qM6oqDtUIbTY",
        "outputId": "bc0c4e17-86b4-44fa-d70a-74503f466b2c"
      },
      "execution_count": 8,
      "outputs": [
        {
          "output_type": "execute_result",
          "data": {
            "text/plain": [
              "False"
            ]
          },
          "metadata": {},
          "execution_count": 8
        }
      ]
    },
    {
      "cell_type": "code",
      "source": [
        "x!=y"
      ],
      "metadata": {
        "colab": {
          "base_uri": "https://localhost:8080/"
        },
        "id": "YFYtY_U2Idyg",
        "outputId": "2db23871-4c47-4384-eabe-27e78b90fd73"
      },
      "execution_count": 9,
      "outputs": [
        {
          "output_type": "execute_result",
          "data": {
            "text/plain": [
              "True"
            ]
          },
          "metadata": {},
          "execution_count": 9
        }
      ]
    },
    {
      "cell_type": "code",
      "source": [
        "x>=y"
      ],
      "metadata": {
        "colab": {
          "base_uri": "https://localhost:8080/"
        },
        "id": "MAChHmqHIglp",
        "outputId": "17c198d6-52c2-4196-90d5-3591bd2e7df3"
      },
      "execution_count": 10,
      "outputs": [
        {
          "output_type": "execute_result",
          "data": {
            "text/plain": [
              "True"
            ]
          },
          "metadata": {},
          "execution_count": 10
        }
      ]
    },
    {
      "cell_type": "code",
      "source": [
        "x<=y"
      ],
      "metadata": {
        "colab": {
          "base_uri": "https://localhost:8080/"
        },
        "id": "g2HVWdLWIh2z",
        "outputId": "e5080934-4018-4124-b2f3-e236114f5325"
      },
      "execution_count": 11,
      "outputs": [
        {
          "output_type": "execute_result",
          "data": {
            "text/plain": [
              "False"
            ]
          },
          "metadata": {},
          "execution_count": 11
        }
      ]
    },
    {
      "cell_type": "code",
      "source": [
        "3>2 and 4<5"
      ],
      "metadata": {
        "colab": {
          "base_uri": "https://localhost:8080/"
        },
        "id": "nmFNLDb4IjJH",
        "outputId": "f8f3f18a-64d6-49dd-ec13-3717084f4be3"
      },
      "execution_count": 12,
      "outputs": [
        {
          "output_type": "execute_result",
          "data": {
            "text/plain": [
              "True"
            ]
          },
          "metadata": {},
          "execution_count": 12
        }
      ]
    },
    {
      "cell_type": "code",
      "source": [
        "3<2 and 4<5"
      ],
      "metadata": {
        "colab": {
          "base_uri": "https://localhost:8080/"
        },
        "id": "XiVRRXMJImHK",
        "outputId": "d93907a1-bbb8-40a2-d5cd-6c8dc415d63d"
      },
      "execution_count": 13,
      "outputs": [
        {
          "output_type": "execute_result",
          "data": {
            "text/plain": [
              "False"
            ]
          },
          "metadata": {},
          "execution_count": 13
        }
      ]
    },
    {
      "cell_type": "code",
      "source": [
        "# and işleminde tüm şartlar doğru olursa true 1'e döner\n",
        "# or işleminde tüm şartlar yanlışsa false "
      ],
      "metadata": {
        "id": "kyArMI53Ipca"
      },
      "execution_count": 14,
      "outputs": []
    },
    {
      "cell_type": "code",
      "source": [
        "3<1 and 1>3"
      ],
      "metadata": {
        "colab": {
          "base_uri": "https://localhost:8080/"
        },
        "id": "d0CHSnZ3I73j",
        "outputId": "1b9ff933-e205-4522-82ad-81ef7b7edd02"
      },
      "execution_count": 15,
      "outputs": [
        {
          "output_type": "execute_result",
          "data": {
            "text/plain": [
              "False"
            ]
          },
          "metadata": {},
          "execution_count": 15
        }
      ]
    },
    {
      "cell_type": "code",
      "source": [
        "3<1 or 1>3"
      ],
      "metadata": {
        "colab": {
          "base_uri": "https://localhost:8080/"
        },
        "id": "HnP7UehyI-QM",
        "outputId": "f9c32f37-7e9e-443e-c9ee-be65c4255047"
      },
      "execution_count": 16,
      "outputs": [
        {
          "output_type": "execute_result",
          "data": {
            "text/plain": [
              "False"
            ]
          },
          "metadata": {},
          "execution_count": 16
        }
      ]
    },
    {
      "cell_type": "code",
      "source": [
        "3>1 or 1>3"
      ],
      "metadata": {
        "colab": {
          "base_uri": "https://localhost:8080/"
        },
        "id": "JNK7gucpJBQ0",
        "outputId": "1106bc52-56c0-4246-a79d-6f52f2360297"
      },
      "execution_count": 17,
      "outputs": [
        {
          "output_type": "execute_result",
          "data": {
            "text/plain": [
              "True"
            ]
          },
          "metadata": {},
          "execution_count": 17
        }
      ]
    },
    {
      "cell_type": "code",
      "source": [
        "not 3>1 or 1>3"
      ],
      "metadata": {
        "colab": {
          "base_uri": "https://localhost:8080/"
        },
        "id": "KxXU2nkkJFc8",
        "outputId": "05c75be1-ae36-45ee-cf1f-e64fa6a9ffa7"
      },
      "execution_count": 18,
      "outputs": [
        {
          "output_type": "execute_result",
          "data": {
            "text/plain": [
              "False"
            ]
          },
          "metadata": {},
          "execution_count": 18
        }
      ]
    },
    {
      "cell_type": "code",
      "source": [
        "# if (şart)\n",
        "#işlem"
      ],
      "metadata": {
        "id": "LrVeHzcnJKRl"
      },
      "execution_count": 20,
      "outputs": []
    },
    {
      "cell_type": "code",
      "source": [
        "if (3>4):\n",
        "  print(\"sina\")"
      ],
      "metadata": {
        "id": "S6VVScaIJOGC"
      },
      "execution_count": 23,
      "outputs": []
    },
    {
      "cell_type": "code",
      "source": [
        "if(3<4):\n",
        "  print(\"sina\")"
      ],
      "metadata": {
        "colab": {
          "base_uri": "https://localhost:8080/"
        },
        "id": "gNFKOLQMJSM9",
        "outputId": "f12025e2-4b02-42b1-e4ee-b14203908574"
      },
      "execution_count": 24,
      "outputs": [
        {
          "output_type": "stream",
          "name": "stdout",
          "text": [
            "sina\n"
          ]
        }
      ]
    },
    {
      "cell_type": "code",
      "source": [
        "sayi1=1"
      ],
      "metadata": {
        "id": "c6YU_oWQJej7"
      },
      "execution_count": 25,
      "outputs": []
    },
    {
      "cell_type": "code",
      "source": [
        "sayi2=2"
      ],
      "metadata": {
        "id": "reW1-hTEJhtP"
      },
      "execution_count": 26,
      "outputs": []
    },
    {
      "cell_type": "code",
      "source": [
        "if(sayi1 == sayi2):\n",
        "  print(\"eşittir\")\n",
        "if(sayi1 != sayi2):\n",
        "  print(\"eşit değil\")"
      ],
      "metadata": {
        "colab": {
          "base_uri": "https://localhost:8080/"
        },
        "id": "QktM5FgFJj-C",
        "outputId": "f98254fd-1f5a-48e1-eb0b-e56b509051a5"
      },
      "execution_count": 31,
      "outputs": [
        {
          "output_type": "stream",
          "name": "stdout",
          "text": [
            "eşit değil\n"
          ]
        }
      ]
    },
    {
      "cell_type": "code",
      "source": [
        "if(sayi1 == sayi2):\n",
        "  print(\"eşittir\")\n",
        "else:\n",
        "  print(\"eşit değil\")"
      ],
      "metadata": {
        "colab": {
          "base_uri": "https://localhost:8080/"
        },
        "id": "PbgU0Bm0JnYu",
        "outputId": "4a5a3472-7889-41cc-9646-5dcf210fff65"
      },
      "execution_count": 32,
      "outputs": [
        {
          "output_type": "stream",
          "name": "stdout",
          "text": [
            "eşit değil\n"
          ]
        }
      ]
    },
    {
      "cell_type": "code",
      "source": [
        "g=input(\"açılan kutuya gir\")"
      ],
      "metadata": {
        "colab": {
          "base_uri": "https://localhost:8080/"
        },
        "id": "iAn_idNcMbxb",
        "outputId": "8fb8b604-aa86-48e1-9627-f4839cde96b2"
      },
      "execution_count": 34,
      "outputs": [
        {
          "name": "stdout",
          "output_type": "stream",
          "text": [
            "açılan kutuya gir15\n"
          ]
        }
      ]
    },
    {
      "cell_type": "code",
      "source": [
        "type(g)"
      ],
      "metadata": {
        "colab": {
          "base_uri": "https://localhost:8080/"
        },
        "id": "YbvwVaAaMjeT",
        "outputId": "93ba5843-66a2-4597-b0bb-6057c08e2913"
      },
      "execution_count": 35,
      "outputs": [
        {
          "output_type": "execute_result",
          "data": {
            "text/plain": [
              "str"
            ]
          },
          "metadata": {},
          "execution_count": 35
        }
      ]
    },
    {
      "cell_type": "code",
      "source": [
        "h=int(input(\"açılan kutuya gir\"))\n"
      ],
      "metadata": {
        "colab": {
          "base_uri": "https://localhost:8080/"
        },
        "id": "8wkQzpDDMuJV",
        "outputId": "c1c4e8fb-efe8-4d00-8ed8-6786e6ed38b3"
      },
      "execution_count": 37,
      "outputs": [
        {
          "name": "stdout",
          "output_type": "stream",
          "text": [
            "açılan kutuya gir15\n"
          ]
        }
      ]
    },
    {
      "cell_type": "code",
      "source": [
        "type(h)"
      ],
      "metadata": {
        "colab": {
          "base_uri": "https://localhost:8080/"
        },
        "id": "9Jznk7kYND0J",
        "outputId": "95ede84d-9040-400e-de03-6e892a97e1f1"
      },
      "execution_count": 38,
      "outputs": [
        {
          "output_type": "execute_result",
          "data": {
            "text/plain": [
              "int"
            ]
          },
          "metadata": {},
          "execution_count": 38
        }
      ]
    },
    {
      "cell_type": "code",
      "source": [
        "j=int(input(\"birinci sayıyı gir\"))"
      ],
      "metadata": {
        "colab": {
          "base_uri": "https://localhost:8080/"
        },
        "id": "O5fwgfVmNE84",
        "outputId": "98b5f5fe-f164-494f-f314-e611b41c4244"
      },
      "execution_count": 45,
      "outputs": [
        {
          "name": "stdout",
          "output_type": "stream",
          "text": [
            "birinci sayıyı gir18\n"
          ]
        }
      ]
    },
    {
      "cell_type": "code",
      "source": [
        "k=int(input(\"ikinci sayıyı gir\"))"
      ],
      "metadata": {
        "colab": {
          "base_uri": "https://localhost:8080/"
        },
        "id": "pSFMp3g-NMP7",
        "outputId": "6b9bacc0-590e-4e21-fec8-1e5c38555783"
      },
      "execution_count": 44,
      "outputs": [
        {
          "name": "stdout",
          "output_type": "stream",
          "text": [
            "ikinci sayıyı gir18\n"
          ]
        }
      ]
    },
    {
      "cell_type": "code",
      "source": [
        "l=int(input(\"üçüncü sayıyı gir\"))"
      ],
      "metadata": {
        "colab": {
          "base_uri": "https://localhost:8080/"
        },
        "id": "OWpG3nZpNUoO",
        "outputId": "8d382043-7280-4016-9faf-5acb2eb6665d"
      },
      "execution_count": 43,
      "outputs": [
        {
          "name": "stdout",
          "output_type": "stream",
          "text": [
            "üçüncü sayıyı gir18\n"
          ]
        }
      ]
    },
    {
      "cell_type": "code",
      "source": [
        "if(j>k and j>l):\n",
        "  print(\"ilk sayı en büyük\")\n",
        "elif(k>j and k>l):\n",
        "  print(\"ikinci sayı en büyük\")\n",
        "elif(l>j and j<l):\n",
        "    print(\"üçüncü sayı en büyük\")\n",
        "elif(j>k and j<l):\n",
        "      print(\"birinci sayı en küçük\")\n",
        "elif(k<j and k<l):\n",
        "      print(\"ikinci sayı en küçük\")\n",
        "elif(l<j and l<k):\n",
        "        print(\"üçüncü sayı en küçük\")\n",
        "else:\n",
        "    print(\"eşit değil\")"
      ],
      "metadata": {
        "colab": {
          "base_uri": "https://localhost:8080/"
        },
        "id": "gz86JU9tNaDS",
        "outputId": "7cdfb89a-887e-4aa0-c17b-a1475c57a5f5"
      },
      "execution_count": 49,
      "outputs": [
        {
          "output_type": "stream",
          "name": "stdout",
          "text": [
            "eşit değil\n"
          ]
        }
      ]
    },
    {
      "cell_type": "code",
      "source": [
        "benim_kahramanim = input(\"kahraman adı gir:\")\n"
      ],
      "metadata": {
        "colab": {
          "base_uri": "https://localhost:8080/"
        },
        "id": "2ECWjcF0N0Qr",
        "outputId": "9f417a43-14d0-4707-cc18-71b2292ea65c"
      },
      "execution_count": 54,
      "outputs": [
        {
          "name": "stdout",
          "output_type": "stream",
          "text": [
            "kahraman adı gir:batman\n"
          ]
        }
      ]
    },
    {
      "cell_type": "code",
      "source": [
        "if benim_kahramanim== \"batman\":\n",
        "  print(\"batman\")\n",
        "elif benim_kahramanim== \"superman\":\n",
        "   print(\"superman\")\n",
        "elif benim_kahramanim== \"wonderwoman\": \n",
        " print(\"sonderwoman\")\n",
        "elif benim_kahramanim==\"ironman\":\n",
        "   print(\"ironman\")\n",
        "else:\n",
        "    print(\"bilinmeyen\")"
      ],
      "metadata": {
        "colab": {
          "base_uri": "https://localhost:8080/"
        },
        "id": "2sE16sceO2JT",
        "outputId": "93dc40de-3907-48ac-9838-b053246f8285"
      },
      "execution_count": 60,
      "outputs": [
        {
          "output_type": "stream",
          "name": "stdout",
          "text": [
            "batman\n"
          ]
        }
      ]
    },
    {
      "cell_type": "code",
      "source": [
        "boy = float(input('lütfen boyunuzu \"metre\"cinsinden giriniz'))\n",
        "kilo = float(input('lütfen kilonuzu\"kilogram\" cinsinden giriniz'))"
      ],
      "metadata": {
        "colab": {
          "base_uri": "https://localhost:8080/"
        },
        "id": "Z_4EXMBCQfiq",
        "outputId": "b2066329-64d4-4de4-a39c-8cc48cb4750c"
      },
      "execution_count": 62,
      "outputs": [
        {
          "name": "stdout",
          "output_type": "stream",
          "text": [
            "lütfen boyunuzu \"metre\"cinsinden giriniz 163\n",
            "lütfen kilonuzu\"kilogram\" cinsinden giriniz 50\n"
          ]
        }
      ]
    },
    {
      "cell_type": "code",
      "source": [
        "bki = (kilo / boy ** 2)\n",
        "\n",
        "if  (bki >0) and (bki<18.4):\n",
        "  print(f\"beden kitle indeksiniz: {bki}, zayıfsınız\")\n",
        "elif (bki > 18.4) and (bki>24.9):\n",
        "  print(f\"beden kitle indeksiniz: {bki},kilonuz normal\")\n",
        "elif (bki > 24.9) and (bki>29.9):\n",
        "  print(f\"beden kitle indeksiniz: {bki},kilonuz biraz fazla\")\n",
        "elif (bki> 29.9) and (bki<=34.9): \n",
        "  print(f\"beden kitle indeksiniz: {bki},1.dereceden obezsiniz\")\n",
        "elif (bki> 34.9) and (bki> 39.9):\n",
        "  print(f\"beden kitle indeksiniz: {bki},2.dereceden obezsiniz\")\n",
        "else:\n",
        "  print((f\"beden kitle indeksiniz: {bki},3.dereceden obezsiniz\"))"
      ],
      "metadata": {
        "colab": {
          "base_uri": "https://localhost:8080/"
        },
        "id": "Sod7Rn6HRjoa",
        "outputId": "7f7c0b98-01ec-42f6-cc7a-cc409426aee5"
      },
      "execution_count": 66,
      "outputs": [
        {
          "output_type": "stream",
          "name": "stdout",
          "text": [
            "beden kitle indeksiniz: 0.0018818924310286425, zayıfsınız\n"
          ]
        }
      ]
    },
    {
      "cell_type": "code",
      "source": [
        "import random"
      ],
      "metadata": {
        "id": "UIv6WF-oVk6Z"
      },
      "execution_count": 71,
      "outputs": []
    },
    {
      "cell_type": "code",
      "source": [
        "print(random.randint(0,5))\n"
      ],
      "metadata": {
        "colab": {
          "base_uri": "https://localhost:8080/"
        },
        "id": "eFfC_c1ZWFrT",
        "outputId": "c728ba8e-8ab8-407a-f1ab-70ad0442391f"
      },
      "execution_count": 85,
      "outputs": [
        {
          "output_type": "stream",
          "name": "stdout",
          "text": [
            "4\n"
          ]
        }
      ]
    },
    {
      "cell_type": "code",
      "source": [
        "rastgele_uretilen_sayi = random.randint(0,10)"
      ],
      "metadata": {
        "id": "lv0Qx0dfWh_q"
      },
      "execution_count": 89,
      "outputs": []
    },
    {
      "cell_type": "code",
      "source": [
        "rastgele_uretilen_sayi "
      ],
      "metadata": {
        "colab": {
          "base_uri": "https://localhost:8080/"
        },
        "id": "XiqRcY1tW4Vx",
        "outputId": "35225e5a-c1d9-421f-f9ec-e00901904832"
      },
      "execution_count": 90,
      "outputs": [
        {
          "output_type": "execute_result",
          "data": {
            "text/plain": [
              "3"
            ]
          },
          "metadata": {},
          "execution_count": 90
        }
      ]
    },
    {
      "cell_type": "code",
      "source": [
        "k_sayi=int(input(\"bir sayi gir\"))\n",
        "if(k_sayi>=1 and k_sayi<=10):\n",
        " b_sayi=random.randint(1,10)\n",
        "if(k_sayi==b_sayi):\n",
        "  print(\"tebrikler doğru tahmin {b_sayi}\")\n",
        "elif(k_sayi<b_sayi):\n",
        " print(\"bilgisayarın ürettiği sayı daha büyük\")\n",
        "elif(k_sayi>b_sayi):\n",
        "   print(\"kullanıcının girdiği sayı dah büyük\")\n",
        "else:\n",
        "     print(\"1-10 arası bir sayı gir\")"
      ],
      "metadata": {
        "colab": {
          "base_uri": "https://localhost:8080/"
        },
        "id": "HKX23_4wXI9g",
        "outputId": "babf9830-38f2-4d5b-88e5-7abcb0de0355"
      },
      "execution_count": 93,
      "outputs": [
        {
          "output_type": "stream",
          "name": "stdout",
          "text": [
            "bir sayi gir567\n",
            "kullanıcının girdiği sayı dah büyük\n"
          ]
        }
      ]
    }
  ]
}